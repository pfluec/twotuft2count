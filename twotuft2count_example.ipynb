{
 "cells": [
  {
   "cell_type": "markdown",
   "id": "ae5ba2ec",
   "metadata": {},
   "source": [
    "# 2tuft2count Example Workflow\n",
    "This notebook demonstrates how to process a multiplexed imaging dataset using the 2tuft2count CLI.\n",
    "\n",
    "It assumes your raw TIFF files are in `raw_images/`, one file per channel, and that you have a `panel.csv`.\n",
    "The workflow includes channel combination, segmentation, measurement, thresholding, and quantification.\n"
   ]
  },
  {
   "cell_type": "markdown",
   "id": "dd0ae8fe",
   "metadata": {},
   "source": [
    "## Step 1: Combine single-channel TIFFs into multi-channel TIFFs"
   ]
  },
  {
   "cell_type": "code",
   "execution_count": null,
   "id": "1b51fcb2",
   "metadata": {},
   "outputs": [],
   "source": [
    "!2tuft2count combine raw_images img"
   ]
  },
  {
   "cell_type": "markdown",
   "id": "fe5ea9e4",
   "metadata": {},
   "source": [
    "## Step 2: Segment cells or nuclei in the multi-channel TIFFs"
   ]
  },
  {
   "cell_type": "code",
   "execution_count": null,
   "id": "40d388aa",
   "metadata": {},
   "outputs": [],
   "source": [
    "!2tuft2count segment img masks"
   ]
  },
  {
   "cell_type": "markdown",
   "id": "e0e87a12",
   "metadata": {},
   "source": [
    "## Step 3: Measure per-cell intensities and export to CSV/FCS"
   ]
  },
  {
   "cell_type": "code",
   "execution_count": null,
   "id": "a7b0ab41",
   "metadata": {},
   "outputs": [],
   "source": [
    "!2tuft2count measure img masks --csv-dir csv --fcs-dir fcs --combined-fcs all_images_fcs/combined.fcs --panel panel.csv"
   ]
  },
  {
   "cell_type": "markdown",
   "id": "48d19139",
   "metadata": {},
   "source": [
    "## Step 4: Visualize thresholds and adjust if needed"
   ]
  },
  {
   "cell_type": "code",
   "execution_count": null,
   "id": "6d8934de",
   "metadata": {},
   "outputs": [],
   "source": [
    "!2tuft2count visualize sample1 --img-dir img --mask-dir masks --csv-dir csv --panel panel.csv"
   ]
  },
  {
   "cell_type": "markdown",
   "id": "769d5d3a",
   "metadata": {},
   "source": [
    "## Step 5: Quantify marker-positive cells across all images"
   ]
  },
  {
   "cell_type": "code",
   "execution_count": null,
   "id": "04af3f05",
   "metadata": {},
   "outputs": [],
   "source": [
    "!2tuft2count quantify --csv-dir csv --results-dir results --panel panel.csv --use-manual-thresholds --threshold-source-image sample1"
   ]
  },
  {
   "cell_type": "markdown",
   "id": "faebef83",
   "metadata": {},
   "source": [
    "You can now review your quantification results in the `results/` folder."
   ]
  }
 ],
 "metadata": {},
 "nbformat": 4,
 "nbformat_minor": 5
}
